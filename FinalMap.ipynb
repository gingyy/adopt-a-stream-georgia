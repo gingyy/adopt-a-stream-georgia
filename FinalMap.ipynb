{
 "cells": [
  {
   "cell_type": "code",
   "execution_count": 1,
   "metadata": {},
   "outputs": [],
   "source": [
    "import csv\n",
    "import time\n",
    "from collections import defaultdict, Counter\n",
    "import json\n",
    "from urllib.request import Request, urlopen\n",
    "import pickle"
   ]
  },
  {
   "cell_type": "code",
   "execution_count": 2,
   "metadata": {},
   "outputs": [],
   "source": [
    "import pandas as pd\n",
    "import numpy as np\n",
    "import geopandas as gpd\n",
    "import shapely\n",
    "from shapely.geometry import shape, Point\n",
    "import shapefile\n",
    "from geopy import distance\n",
    "import plotly.figure_factory as ff\n",
    "import plotly.io as pio\n",
    "import plotly as plt\n",
    "pio.renderers.default = \"jupyterlab\"\n",
    "import plotly.express as px\n",
    "import plotly.graph_objects as go"
   ]
  },
  {
   "cell_type": "code",
   "execution_count": 3,
   "metadata": {},
   "outputs": [],
   "source": [
    "from tqdm import tqdm"
   ]
  },
  {
   "cell_type": "code",
   "execution_count": 4,
   "metadata": {},
   "outputs": [],
   "source": [
    "from utils import *"
   ]
  },
  {
   "cell_type": "code",
   "execution_count": null,
   "metadata": {},
   "outputs": [],
   "source": [
    "df = load_csv_export_dataset(\"export_dataframe_stage2.csv\")"
   ]
  },
  {
   "cell_type": "code",
   "execution_count": 6,
   "metadata": {},
   "outputs": [
    {
     "data": {
      "text/plain": [
       "Proctor Creek-Chattahoochee River    3682\n",
       "Peachtree Creek                      3611\n",
       "Utoy Creek                           2724\n",
       "March Creek-Chattahoochee River      1865\n",
       "South Fork Peachtree Creek           1772\n",
       "                                     ... \n",
       "Douglas Lake-Big Slough                 1\n",
       "Clyatt Mill Creek                       1\n",
       "Mill Creek-Alapaha River                1\n",
       "Troublesome Creek-Towaliga River        1\n",
       "Simpson Creek                           1\n",
       "Name: wbd, Length: 564, dtype: int64"
      ]
     },
     "execution_count": 6,
     "metadata": {},
     "output_type": "execute_result"
    }
   ],
   "source": [
    "df['wbd'].value_counts()"
   ]
  },
  {
   "cell_type": "code",
   "execution_count": 7,
   "metadata": {},
   "outputs": [],
   "source": [
    "locs = df[['SiteName', 'SiteLocation']]"
   ]
  },
  {
   "cell_type": "code",
   "execution_count": 8,
   "metadata": {},
   "outputs": [],
   "source": [
    "df = df[~df['SiteLocation'].isna()]"
   ]
  },
  {
   "cell_type": "code",
   "execution_count": 9,
   "metadata": {},
   "outputs": [],
   "source": [
    "#locs = locs[locs['SiteLocation'] != 'NULL']\n",
    "locs = locs[~locs['SiteLocation'].isna()]"
   ]
  },
  {
   "cell_type": "code",
   "execution_count": 10,
   "metadata": {},
   "outputs": [],
   "source": [
    "loc_pairs, geo_locs, gdf = get_loc_objects_from_series(locs['SiteLocation'])"
   ]
  },
  {
   "cell_type": "code",
   "execution_count": 11,
   "metadata": {},
   "outputs": [],
   "source": [
    "loc_lookup = fetch_geo_locs()"
   ]
  },
  {
   "cell_type": "code",
   "execution_count": 12,
   "metadata": {},
   "outputs": [],
   "source": [
    "# watershed boundaries\n",
    "WBD_gj = shapefile.Reader(\"hydrologic_units\\wbdhu12_a_ga.shp\").__geo_interface__"
   ]
  },
  {
   "cell_type": "code",
   "execution_count": 13,
   "metadata": {},
   "outputs": [],
   "source": [
    "GA_map = get_state_map()"
   ]
  },
  {
   "cell_type": "code",
   "execution_count": 14,
   "metadata": {},
   "outputs": [],
   "source": [
    "wbd_names = set([wbd['properties']['name'] for wbd in WBD_gj['features']])"
   ]
  },
  {
   "cell_type": "markdown",
   "metadata": {},
   "source": [
    "---"
   ]
  },
  {
   "cell_type": "code",
   "execution_count": 15,
   "metadata": {},
   "outputs": [],
   "source": [
    "df_map = pd.DataFrame(data={'name': [wbd['properties']['name'] for wbd in WBD_gj['features']]})"
   ]
  },
  {
   "cell_type": "code",
   "execution_count": 24,
   "metadata": {},
   "outputs": [],
   "source": [
    "# df_map.head()"
   ]
  },
  {
   "cell_type": "code",
   "execution_count": 25,
   "metadata": {},
   "outputs": [
    {
     "data": {
      "text/html": [
       "<div>\n",
       "<style scoped>\n",
       "    .dataframe tbody tr th:only-of-type {\n",
       "        vertical-align: middle;\n",
       "    }\n",
       "\n",
       "    .dataframe tbody tr th {\n",
       "        vertical-align: top;\n",
       "    }\n",
       "\n",
       "    .dataframe thead th {\n",
       "        text-align: right;\n",
       "    }\n",
       "</style>\n",
       "<table border=\"1\" class=\"dataframe\">\n",
       "  <thead>\n",
       "    <tr style=\"text-align: right;\">\n",
       "      <th></th>\n",
       "      <th>group_rid</th>\n",
       "      <th>GroupName</th>\n",
       "      <th>site_rid</th>\n",
       "      <th>state</th>\n",
       "      <th>county</th>\n",
       "      <th>lat</th>\n",
       "      <th>long</th>\n",
       "      <th>SiteName</th>\n",
       "      <th>SiteLocation</th>\n",
       "      <th>event_rid</th>\n",
       "      <th>...</th>\n",
       "      <th>max_temp</th>\n",
       "      <th>three_M_plate</th>\n",
       "      <th>ecoli_idexx</th>\n",
       "      <th>fecal_coliform</th>\n",
       "      <th>ecoli_other</th>\n",
       "      <th>ecoli_other_unit</th>\n",
       "      <th>comments</th>\n",
       "      <th>warnings</th>\n",
       "      <th>wbd</th>\n",
       "      <th>Counts</th>\n",
       "    </tr>\n",
       "  </thead>\n",
       "  <tbody>\n",
       "    <tr>\n",
       "      <th>0</th>\n",
       "      <td>840</td>\n",
       "      <td>Rails to Trails</td>\n",
       "      <td>18</td>\n",
       "      <td>Georgia</td>\n",
       "      <td>Hall</td>\n",
       "      <td>34.4103</td>\n",
       "      <td>-83.8462</td>\n",
       "      <td>West Fork of Little River</td>\n",
       "      <td>34.4103  -83.8462</td>\n",
       "      <td>92</td>\n",
       "      <td>...</td>\n",
       "      <td>NaN</td>\n",
       "      <td>NaN</td>\n",
       "      <td>NaN</td>\n",
       "      <td>NaN</td>\n",
       "      <td>NaN</td>\n",
       "      <td>NaN</td>\n",
       "      <td>NaN</td>\n",
       "      <td>NaN</td>\n",
       "      <td>West Fork Little River</td>\n",
       "      <td>6.0</td>\n",
       "    </tr>\n",
       "    <tr>\n",
       "      <th>1</th>\n",
       "      <td>840</td>\n",
       "      <td>Rails to Trails</td>\n",
       "      <td>18</td>\n",
       "      <td>Georgia</td>\n",
       "      <td>Hall</td>\n",
       "      <td>34.4103</td>\n",
       "      <td>-83.8462</td>\n",
       "      <td>West Fork of Little River</td>\n",
       "      <td>34.4103  -83.8462</td>\n",
       "      <td>93</td>\n",
       "      <td>...</td>\n",
       "      <td>NaN</td>\n",
       "      <td>NaN</td>\n",
       "      <td>NaN</td>\n",
       "      <td>NaN</td>\n",
       "      <td>NaN</td>\n",
       "      <td>NaN</td>\n",
       "      <td>NaN</td>\n",
       "      <td>NaN</td>\n",
       "      <td>West Fork Little River</td>\n",
       "      <td>6.0</td>\n",
       "    </tr>\n",
       "  </tbody>\n",
       "</table>\n",
       "<p>2 rows × 91 columns</p>\n",
       "</div>"
      ],
      "text/plain": [
       "   group_rid        GroupName  site_rid    state county      lat     long  \\\n",
       "0        840  Rails to Trails        18  Georgia   Hall  34.4103 -83.8462   \n",
       "1        840  Rails to Trails        18  Georgia   Hall  34.4103 -83.8462   \n",
       "\n",
       "                    SiteName       SiteLocation  event_rid  ... max_temp  \\\n",
       "0  West Fork of Little River  34.4103  -83.8462         92  ...      NaN   \n",
       "1  West Fork of Little River  34.4103  -83.8462         93  ...      NaN   \n",
       "\n",
       "   three_M_plate  ecoli_idexx  fecal_coliform ecoli_other ecoli_other_unit  \\\n",
       "0            NaN          NaN             NaN         NaN              NaN   \n",
       "1            NaN          NaN             NaN         NaN              NaN   \n",
       "\n",
       "   comments  warnings                     wbd  Counts  \n",
       "0       NaN       NaN  West Fork Little River     6.0  \n",
       "1       NaN       NaN  West Fork Little River     6.0  \n",
       "\n",
       "[2 rows x 91 columns]"
      ]
     },
     "execution_count": 25,
     "metadata": {},
     "output_type": "execute_result"
    }
   ],
   "source": [
    "df['Counts'] = df.groupby(['wbd'])['wbd'].transform('count')\n",
    "df.head(2)"
   ]
  },
  {
   "cell_type": "code",
   "execution_count": 18,
   "metadata": {},
   "outputs": [],
   "source": [
    "df2 = df"
   ]
  },
  {
   "cell_type": "code",
   "execution_count": 19,
   "metadata": {},
   "outputs": [
    {
     "data": {
      "text/html": [
       "<div>\n",
       "<style scoped>\n",
       "    .dataframe tbody tr th:only-of-type {\n",
       "        vertical-align: middle;\n",
       "    }\n",
       "\n",
       "    .dataframe tbody tr th {\n",
       "        vertical-align: top;\n",
       "    }\n",
       "\n",
       "    .dataframe thead th {\n",
       "        text-align: right;\n",
       "    }\n",
       "</style>\n",
       "<table border=\"1\" class=\"dataframe\">\n",
       "  <thead>\n",
       "    <tr style=\"text-align: right;\">\n",
       "      <th></th>\n",
       "      <th>name</th>\n",
       "      <th>Counts</th>\n",
       "    </tr>\n",
       "  </thead>\n",
       "  <tbody>\n",
       "    <tr>\n",
       "      <th>0</th>\n",
       "      <td>West Fork Little River</td>\n",
       "      <td>6.0</td>\n",
       "    </tr>\n",
       "    <tr>\n",
       "      <th>2</th>\n",
       "      <td>Turkey Creek-Appalachee River</td>\n",
       "      <td>19.0</td>\n",
       "    </tr>\n",
       "    <tr>\n",
       "      <th>16</th>\n",
       "      <td>Wrights Creek-Alcovy River</td>\n",
       "      <td>7.0</td>\n",
       "    </tr>\n",
       "    <tr>\n",
       "      <th>19</th>\n",
       "      <td>Baldwin Creek-Bear Creek</td>\n",
       "      <td>2.0</td>\n",
       "    </tr>\n",
       "    <tr>\n",
       "      <th>20</th>\n",
       "      <td>Bear Creek</td>\n",
       "      <td>165.0</td>\n",
       "    </tr>\n",
       "  </tbody>\n",
       "</table>\n",
       "</div>"
      ],
      "text/plain": [
       "                             name  Counts\n",
       "0          West Fork Little River     6.0\n",
       "2   Turkey Creek-Appalachee River    19.0\n",
       "16     Wrights Creek-Alcovy River     7.0\n",
       "19       Baldwin Creek-Bear Creek     2.0\n",
       "20                     Bear Creek   165.0"
      ]
     },
     "execution_count": 19,
     "metadata": {},
     "output_type": "execute_result"
    }
   ],
   "source": [
    "df_graph = df.iloc[:, [-2,-1]]\n",
    "df_graph = df_graph.rename(columns={\"wbd\": \"name\"})\n",
    "df_graph = df_graph.drop_duplicates()\n",
    "df_graph.head()"
   ]
  },
  {
   "cell_type": "code",
   "execution_count": 23,
   "metadata": {},
   "outputs": [],
   "source": [
    "wbd_graph = df_map.set_index('name').join(df_graph.set_index('name'), how='outer', on='name')"
   ]
  },
  {
   "cell_type": "code",
   "execution_count": 21,
   "metadata": {},
   "outputs": [
    {
     "data": {
      "text/html": [
       "<div>\n",
       "<style scoped>\n",
       "    .dataframe tbody tr th:only-of-type {\n",
       "        vertical-align: middle;\n",
       "    }\n",
       "\n",
       "    .dataframe tbody tr th {\n",
       "        vertical-align: top;\n",
       "    }\n",
       "\n",
       "    .dataframe thead th {\n",
       "        text-align: right;\n",
       "    }\n",
       "</style>\n",
       "<table border=\"1\" class=\"dataframe\">\n",
       "  <thead>\n",
       "    <tr style=\"text-align: right;\">\n",
       "      <th></th>\n",
       "      <th>name</th>\n",
       "      <th>Counts</th>\n",
       "    </tr>\n",
       "  </thead>\n",
       "  <tbody>\n",
       "    <tr>\n",
       "      <th>Cane Water Pond</th>\n",
       "      <td>Cane Water Pond</td>\n",
       "      <td>2.0</td>\n",
       "    </tr>\n",
       "    <tr>\n",
       "      <th>Hutchinson Mill Creek</th>\n",
       "      <td>Hutchinson Mill Creek</td>\n",
       "      <td>15.0</td>\n",
       "    </tr>\n",
       "    <tr>\n",
       "      <th>Caney Branch-Satilla River</th>\n",
       "      <td>Caney Branch-Satilla River</td>\n",
       "      <td>110.0</td>\n",
       "    </tr>\n",
       "    <tr>\n",
       "      <th>Town of Mount Vernon-Oconee River</th>\n",
       "      <td>Town of Mount Vernon-Oconee River</td>\n",
       "      <td>NaN</td>\n",
       "    </tr>\n",
       "    <tr>\n",
       "      <th>Dasher Creek-Savannah River</th>\n",
       "      <td>Dasher Creek-Savannah River</td>\n",
       "      <td>3.0</td>\n",
       "    </tr>\n",
       "  </tbody>\n",
       "</table>\n",
       "</div>"
      ],
      "text/plain": [
       "                                                                name  Counts\n",
       "Cane Water Pond                                      Cane Water Pond     2.0\n",
       "Hutchinson Mill Creek                          Hutchinson Mill Creek    15.0\n",
       "Caney Branch-Satilla River                Caney Branch-Satilla River   110.0\n",
       "Town of Mount Vernon-Oconee River  Town of Mount Vernon-Oconee River     NaN\n",
       "Dasher Creek-Savannah River              Dasher Creek-Savannah River     3.0"
      ]
     },
     "execution_count": 21,
     "metadata": {},
     "output_type": "execute_result"
    }
   ],
   "source": [
    "wbd_graph['name'] = wbd_graph.index\n",
    "wbd_graph.head()"
   ]
  },
  {
   "cell_type": "markdown",
   "metadata": {},
   "source": [
    "---"
   ]
  },
  {
   "cell_type": "code",
   "execution_count": null,
   "metadata": {},
   "outputs": [],
   "source": [
    "fig = px.choropleth_mapbox(wbd_graph, #array/object with wbd names in the same order as the json file\n",
    "                           geojson=WBD_gj,\n",
    "                           locations=\"name\",\n",
    "                           color=\"Counts\",\n",
    "                           featureidkey=\"properties.name\",\n",
    "                           center={\"lat\": 32.8407, \"lon\": -83.6324}, # macon\n",
    "                           mapbox_style=\"stamen-terrain\", #\"carto-positron\",\n",
    "                           color_continuous_scale=\"Jet\", #Sunsetdark, Jet, \n",
    "                           zoom=6,\n",
    "                           opacity=0.7,\n",
    "                      )\n",
    "\n",
    "\n",
    "fig.update_layout(margin={\"r\":0, \"t\":0, \"l\":0, \"b\":0})\n",
    "fig.show()"
   ]
  }
 ],
 "metadata": {
  "kernelspec": {
   "display_name": "Python 3",
   "language": "python",
   "name": "python3"
  },
  "language_info": {
   "codemirror_mode": {
    "name": "ipython",
    "version": 3
   },
   "file_extension": ".py",
   "mimetype": "text/x-python",
   "name": "python",
   "nbconvert_exporter": "python",
   "pygments_lexer": "ipython3",
   "version": "3.8.5"
  }
 },
 "nbformat": 4,
 "nbformat_minor": 4
}

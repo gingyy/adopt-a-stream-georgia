{
  "nbformat": 4,
  "nbformat_minor": 0,
  "metadata": {
    "colab": {
      "name": "data_dictionary_version_2_25.ipynb",
      "provenance": [],
      "collapsed_sections": [],
      "include_colab_link": true
    },
    "kernelspec": {
      "name": "python3",
      "display_name": "Python 3"
    },
    "language_info": {
      "name": "python"
    }
  },
  "cells": [
    {
      "cell_type": "markdown",
      "metadata": {
        "id": "view-in-github",
        "colab_type": "text"
      },
      "source": [
        "<a href=\"https://colab.research.google.com/github/gingyy/adopt-a-stream-georgia/blob/main/data_dictionary_version_2_25.ipynb\" target=\"_parent\"><img src=\"https://colab.research.google.com/assets/colab-badge.svg\" alt=\"Open In Colab\"/></a>"
      ]
    },
    {
      "cell_type": "code",
      "source": [
        "from google.colab import files\n",
        "uploaded = files.upload()"
      ],
      "metadata": {
        "id": "pbTID6PRrFsk",
        "colab": {
          "resources": {
            "http://localhost:8080/nbextensions/google.colab/files.js": {
              "data": "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",
              "ok": true,
              "headers": [
                [
                  "content-type",
                  "application/javascript"
                ]
              ],
              "status": 200,
              "status_text": ""
            }
          },
          "base_uri": "https://localhost:8080/",
          "height": 73
        },
        "outputId": "5ffe9737-2e65-4a59-f95b-6d23889750ae"
      },
      "execution_count": 3,
      "outputs": [
        {
          "output_type": "display_data",
          "data": {
            "text/html": [
              "\n",
              "     <input type=\"file\" id=\"files-e648f1a4-5589-494e-80a0-75bd095d358a\" name=\"files[]\" multiple disabled\n",
              "        style=\"border:none\" />\n",
              "     <output id=\"result-e648f1a4-5589-494e-80a0-75bd095d358a\">\n",
              "      Upload widget is only available when the cell has been executed in the\n",
              "      current browser session. Please rerun this cell to enable.\n",
              "      </output>\n",
              "      <script src=\"/nbextensions/google.colab/files.js\"></script> "
            ],
            "text/plain": [
              "<IPython.core.display.HTML object>"
            ]
          },
          "metadata": {}
        },
        {
          "output_type": "stream",
          "name": "stdout",
          "text": [
            "Saving export_dataframe_stage2.csv to export_dataframe_stage2.csv\n"
          ]
        }
      ]
    },
    {
      "cell_type": "code",
      "source": [
        "import io\n",
        "import pandas as pd\n",
        "df2 = pd.read_csv(io.BytesIO(uploaded['export_dataframe_stage2.csv'])) #replace with file name"
      ],
      "metadata": {
        "id": "B4GIDjGUqkAg",
        "colab": {
          "base_uri": "https://localhost:8080/"
        },
        "outputId": "3c9d1f53-0231-456c-a66f-0ec914a3380f"
      },
      "execution_count": 4,
      "outputs": [
        {
          "output_type": "stream",
          "name": "stderr",
          "text": [
            "/usr/local/lib/python3.7/dist-packages/IPython/core/interactiveshell.py:2882: DtypeWarning: Columns (14,20,21,23,24,31,32,33,35,36,56,63,64,65,72,73,74,77,78,79,86,87,88) have mixed types.Specify dtype option on import or set low_memory=False.\n",
            "  exec(code_obj, self.user_global_ns, self.user_ns)\n"
          ]
        }
      ]
    },
    {
      "cell_type": "code",
      "source": [
        "df2.head()"
      ],
      "metadata": {
        "colab": {
          "base_uri": "https://localhost:8080/",
          "height": 629
        },
        "id": "Tvyes1Qjry1e",
        "outputId": "08e5151b-91f9-4ceb-e614-968494152241"
      },
      "execution_count": 52,
      "outputs": [
        {
          "output_type": "execute_result",
          "data": {
            "text/html": [
              "\n",
              "  <div id=\"df-e8411fb4-f67b-4489-93ab-a39284c9e84d\">\n",
              "    <div class=\"colab-df-container\">\n",
              "      <div>\n",
              "<style scoped>\n",
              "    .dataframe tbody tr th:only-of-type {\n",
              "        vertical-align: middle;\n",
              "    }\n",
              "\n",
              "    .dataframe tbody tr th {\n",
              "        vertical-align: top;\n",
              "    }\n",
              "\n",
              "    .dataframe thead th {\n",
              "        text-align: right;\n",
              "    }\n",
              "</style>\n",
              "<table border=\"1\" class=\"dataframe\">\n",
              "  <thead>\n",
              "    <tr style=\"text-align: right;\">\n",
              "      <th></th>\n",
              "      <th>group_rid</th>\n",
              "      <th>GroupName</th>\n",
              "      <th>site_rid</th>\n",
              "      <th>state</th>\n",
              "      <th>county</th>\n",
              "      <th>lat</th>\n",
              "      <th>long</th>\n",
              "      <th>SiteName</th>\n",
              "      <th>SiteLocation</th>\n",
              "      <th>event_rid</th>\n",
              "      <th>event_date</th>\n",
              "      <th>volunteer_time</th>\n",
              "      <th>data_entry</th>\n",
              "      <th>participants</th>\n",
              "      <th>rain_24_hours</th>\n",
              "      <th>weather</th>\n",
              "      <th>rain_hours</th>\n",
              "      <th>rain_inches</th>\n",
              "      <th>distance</th>\n",
              "      <th>air_temperature</th>\n",
              "      <th>stream</th>\n",
              "      <th>method</th>\n",
              "      <th>wqi</th>\n",
              "      <th>habitat</th>\n",
              "      <th>Comments</th>\n",
              "      <th>createdby</th>\n",
              "      <th>createddate</th>\n",
              "      <th>chem_detail_rid</th>\n",
              "      <th>air_temp</th>\n",
              "      <th>water_temp</th>\n",
              "      <th>calibrate</th>\n",
              "      <th>calibrate_comment</th>\n",
              "      <th>chemical_comment</th>\n",
              "      <th>ChemWarnings</th>\n",
              "      <th>do_saturation</th>\n",
              "      <th>reagent</th>\n",
              "      <th>reagent_other</th>\n",
              "      <th>ph1</th>\n",
              "      <th>ph2</th>\n",
              "      <th>DissolvedOxygen1</th>\n",
              "      <th>...</th>\n",
              "      <th>Orthophosphate</th>\n",
              "      <th>SamplingDepth</th>\n",
              "      <th>SettleableSolids</th>\n",
              "      <th>Turbidity</th>\n",
              "      <th>Chloride</th>\n",
              "      <th>Hardness</th>\n",
              "      <th>Other1</th>\n",
              "      <th>Other2</th>\n",
              "      <th>Other3</th>\n",
              "      <th>Other4</th>\n",
              "      <th>Other5</th>\n",
              "      <th>Other6</th>\n",
              "      <th>Other7</th>\n",
              "      <th>Other1_Comm</th>\n",
              "      <th>Other2_Comm</th>\n",
              "      <th>Other3_Comm</th>\n",
              "      <th>Other4_Comm</th>\n",
              "      <th>Other5_Comm</th>\n",
              "      <th>Other6_Comm</th>\n",
              "      <th>Other7_Comm</th>\n",
              "      <th>bact_detail_rid</th>\n",
              "      <th>plate_blank</th>\n",
              "      <th>plate_one</th>\n",
              "      <th>plate_two</th>\n",
              "      <th>plate_three</th>\n",
              "      <th>plate_four</th>\n",
              "      <th>plate_five</th>\n",
              "      <th>colony_avg</th>\n",
              "      <th>hold_start_datetime</th>\n",
              "      <th>hold_end_datetime</th>\n",
              "      <th>min_temp</th>\n",
              "      <th>max_temp</th>\n",
              "      <th>three_M_plate</th>\n",
              "      <th>ecoli_idexx</th>\n",
              "      <th>fecal_coliform</th>\n",
              "      <th>ecoli_other</th>\n",
              "      <th>ecoli_other_unit</th>\n",
              "      <th>comments</th>\n",
              "      <th>warnings</th>\n",
              "      <th>wbd</th>\n",
              "    </tr>\n",
              "  </thead>\n",
              "  <tbody>\n",
              "    <tr>\n",
              "      <th>0</th>\n",
              "      <td>840</td>\n",
              "      <td>Rails to Trails</td>\n",
              "      <td>18</td>\n",
              "      <td>Georgia</td>\n",
              "      <td>Hall</td>\n",
              "      <td>34.4103</td>\n",
              "      <td>-83.8462</td>\n",
              "      <td>West Fork of Little River</td>\n",
              "      <td>34.4103  -83.8462</td>\n",
              "      <td>92</td>\n",
              "      <td>1999-04-17 09:45:00</td>\n",
              "      <td>180.0</td>\n",
              "      <td>10388.0</td>\n",
              "      <td>3</td>\n",
              "      <td>Intermittent Rain</td>\n",
              "      <td>Clear</td>\n",
              "      <td>NaN</td>\n",
              "      <td>NaN</td>\n",
              "      <td>NaN</td>\n",
              "      <td>37.22</td>\n",
              "      <td>NaN</td>\n",
              "      <td>NaN</td>\n",
              "      <td>1.0</td>\n",
              "      <td>NaN</td>\n",
              "      <td>NaN</td>\n",
              "      <td>EPDMIG</td>\n",
              "      <td>3/10/17 11:48 PM</td>\n",
              "      <td>8785</td>\n",
              "      <td>37.22</td>\n",
              "      <td>14.0</td>\n",
              "      <td>0.0</td>\n",
              "      <td>NaN</td>\n",
              "      <td>NaN</td>\n",
              "      <td>NaN</td>\n",
              "      <td>70.72</td>\n",
              "      <td>NaN</td>\n",
              "      <td>NaN</td>\n",
              "      <td>7.0</td>\n",
              "      <td>7.0</td>\n",
              "      <td>7.6</td>\n",
              "      <td>...</td>\n",
              "      <td>NaN</td>\n",
              "      <td>NaN</td>\n",
              "      <td>NaN</td>\n",
              "      <td>NaN</td>\n",
              "      <td>NaN</td>\n",
              "      <td>NaN</td>\n",
              "      <td>NaN</td>\n",
              "      <td>NaN</td>\n",
              "      <td>NaN</td>\n",
              "      <td>NaN</td>\n",
              "      <td>NaN</td>\n",
              "      <td>NaN</td>\n",
              "      <td>NaN</td>\n",
              "      <td>NaN</td>\n",
              "      <td>NaN</td>\n",
              "      <td>NaN</td>\n",
              "      <td>NaN</td>\n",
              "      <td>NaN</td>\n",
              "      <td>NaN</td>\n",
              "      <td>NaN</td>\n",
              "      <td>-1</td>\n",
              "      <td>NaN</td>\n",
              "      <td>NaN</td>\n",
              "      <td>NaN</td>\n",
              "      <td>NaN</td>\n",
              "      <td>NaN</td>\n",
              "      <td>NaN</td>\n",
              "      <td>NaN</td>\n",
              "      <td>NaN</td>\n",
              "      <td>NaN</td>\n",
              "      <td>NaN</td>\n",
              "      <td>NaN</td>\n",
              "      <td>NaN</td>\n",
              "      <td>NaN</td>\n",
              "      <td>NaN</td>\n",
              "      <td>NaN</td>\n",
              "      <td>NaN</td>\n",
              "      <td>NaN</td>\n",
              "      <td>NaN</td>\n",
              "      <td>West Fork Little River</td>\n",
              "    </tr>\n",
              "    <tr>\n",
              "      <th>1</th>\n",
              "      <td>840</td>\n",
              "      <td>Rails to Trails</td>\n",
              "      <td>18</td>\n",
              "      <td>Georgia</td>\n",
              "      <td>Hall</td>\n",
              "      <td>34.4103</td>\n",
              "      <td>-83.8462</td>\n",
              "      <td>West Fork of Little River</td>\n",
              "      <td>34.4103  -83.8462</td>\n",
              "      <td>93</td>\n",
              "      <td>1999-02-20 09:00:00</td>\n",
              "      <td>180.0</td>\n",
              "      <td>NaN</td>\n",
              "      <td>3</td>\n",
              "      <td>Intermittent Rain</td>\n",
              "      <td>Overcast</td>\n",
              "      <td>NaN</td>\n",
              "      <td>NaN</td>\n",
              "      <td>NaN</td>\n",
              "      <td>9.00</td>\n",
              "      <td>NaN</td>\n",
              "      <td>NaN</td>\n",
              "      <td>NaN</td>\n",
              "      <td>NaN</td>\n",
              "      <td>NaN</td>\n",
              "      <td>EPDMIG</td>\n",
              "      <td>3/10/17 11:48 PM</td>\n",
              "      <td>8792</td>\n",
              "      <td>9.00</td>\n",
              "      <td>9.0</td>\n",
              "      <td>0.0</td>\n",
              "      <td>NaN</td>\n",
              "      <td>NaN</td>\n",
              "      <td>NaN</td>\n",
              "      <td>59.53</td>\n",
              "      <td>NaN</td>\n",
              "      <td>NaN</td>\n",
              "      <td>6.5</td>\n",
              "      <td>6.5</td>\n",
              "      <td>7.2</td>\n",
              "      <td>...</td>\n",
              "      <td>0.1</td>\n",
              "      <td>NaN</td>\n",
              "      <td>NaN</td>\n",
              "      <td>NaN</td>\n",
              "      <td>NaN</td>\n",
              "      <td>NaN</td>\n",
              "      <td>NaN</td>\n",
              "      <td>NaN</td>\n",
              "      <td>NaN</td>\n",
              "      <td>NaN</td>\n",
              "      <td>NaN</td>\n",
              "      <td>NaN</td>\n",
              "      <td>NaN</td>\n",
              "      <td>NaN</td>\n",
              "      <td>NaN</td>\n",
              "      <td>NaN</td>\n",
              "      <td>NaN</td>\n",
              "      <td>NaN</td>\n",
              "      <td>NaN</td>\n",
              "      <td>NaN</td>\n",
              "      <td>-1</td>\n",
              "      <td>NaN</td>\n",
              "      <td>NaN</td>\n",
              "      <td>NaN</td>\n",
              "      <td>NaN</td>\n",
              "      <td>NaN</td>\n",
              "      <td>NaN</td>\n",
              "      <td>NaN</td>\n",
              "      <td>NaN</td>\n",
              "      <td>NaN</td>\n",
              "      <td>NaN</td>\n",
              "      <td>NaN</td>\n",
              "      <td>NaN</td>\n",
              "      <td>NaN</td>\n",
              "      <td>NaN</td>\n",
              "      <td>NaN</td>\n",
              "      <td>NaN</td>\n",
              "      <td>NaN</td>\n",
              "      <td>NaN</td>\n",
              "      <td>West Fork Little River</td>\n",
              "    </tr>\n",
              "    <tr>\n",
              "      <th>2</th>\n",
              "      <td>297</td>\n",
              "      <td>Apalachee Water Watchers, Walton Clean &amp; Beaut...</td>\n",
              "      <td>44</td>\n",
              "      <td>Georgia</td>\n",
              "      <td>Walton</td>\n",
              "      <td>33.8406</td>\n",
              "      <td>-83.5584</td>\n",
              "      <td>Apalachee River</td>\n",
              "      <td>33.8406  -83.5584</td>\n",
              "      <td>94</td>\n",
              "      <td>1999-02-06 09:00:00</td>\n",
              "      <td>180.0</td>\n",
              "      <td>3197.0</td>\n",
              "      <td>3</td>\n",
              "      <td>Intermittent Rain</td>\n",
              "      <td>Clear</td>\n",
              "      <td>NaN</td>\n",
              "      <td>NaN</td>\n",
              "      <td>NaN</td>\n",
              "      <td>3.00</td>\n",
              "      <td>NaN</td>\n",
              "      <td>NaN</td>\n",
              "      <td>NaN</td>\n",
              "      <td>NaN</td>\n",
              "      <td>NaN</td>\n",
              "      <td>EPDMIG</td>\n",
              "      <td>3/10/17 11:48 PM</td>\n",
              "      <td>9940</td>\n",
              "      <td>3.00</td>\n",
              "      <td>8.0</td>\n",
              "      <td>0.0</td>\n",
              "      <td>NaN</td>\n",
              "      <td>NaN</td>\n",
              "      <td>NaN</td>\n",
              "      <td>66.79</td>\n",
              "      <td>NaN</td>\n",
              "      <td>NaN</td>\n",
              "      <td>5.5</td>\n",
              "      <td>5.5</td>\n",
              "      <td>8.1</td>\n",
              "      <td>...</td>\n",
              "      <td>NaN</td>\n",
              "      <td>NaN</td>\n",
              "      <td>NaN</td>\n",
              "      <td>NaN</td>\n",
              "      <td>NaN</td>\n",
              "      <td>NaN</td>\n",
              "      <td>NaN</td>\n",
              "      <td>NaN</td>\n",
              "      <td>NaN</td>\n",
              "      <td>NaN</td>\n",
              "      <td>NaN</td>\n",
              "      <td>NaN</td>\n",
              "      <td>NaN</td>\n",
              "      <td>NaN</td>\n",
              "      <td>NaN</td>\n",
              "      <td>NaN</td>\n",
              "      <td>NaN</td>\n",
              "      <td>NaN</td>\n",
              "      <td>NaN</td>\n",
              "      <td>NaN</td>\n",
              "      <td>-1</td>\n",
              "      <td>NaN</td>\n",
              "      <td>NaN</td>\n",
              "      <td>NaN</td>\n",
              "      <td>NaN</td>\n",
              "      <td>NaN</td>\n",
              "      <td>NaN</td>\n",
              "      <td>NaN</td>\n",
              "      <td>NaN</td>\n",
              "      <td>NaN</td>\n",
              "      <td>NaN</td>\n",
              "      <td>NaN</td>\n",
              "      <td>NaN</td>\n",
              "      <td>NaN</td>\n",
              "      <td>NaN</td>\n",
              "      <td>NaN</td>\n",
              "      <td>NaN</td>\n",
              "      <td>NaN</td>\n",
              "      <td>NaN</td>\n",
              "      <td>Turkey Creek-Appalachee River</td>\n",
              "    </tr>\n",
              "    <tr>\n",
              "      <th>3</th>\n",
              "      <td>297</td>\n",
              "      <td>Apalachee Water Watchers, Walton Clean &amp; Beaut...</td>\n",
              "      <td>44</td>\n",
              "      <td>Georgia</td>\n",
              "      <td>Walton</td>\n",
              "      <td>33.8406</td>\n",
              "      <td>-83.5584</td>\n",
              "      <td>Apalachee River</td>\n",
              "      <td>33.8406  -83.5584</td>\n",
              "      <td>95</td>\n",
              "      <td>1998-09-19 10:00:00</td>\n",
              "      <td>180.0</td>\n",
              "      <td>3197.0</td>\n",
              "      <td>4</td>\n",
              "      <td>Intermittent Rain</td>\n",
              "      <td>Overcast</td>\n",
              "      <td>NaN</td>\n",
              "      <td>NaN</td>\n",
              "      <td>NaN</td>\n",
              "      <td>24.50</td>\n",
              "      <td>NaN</td>\n",
              "      <td>NaN</td>\n",
              "      <td>NaN</td>\n",
              "      <td>NaN</td>\n",
              "      <td>NaN</td>\n",
              "      <td>EPDMIG</td>\n",
              "      <td>3/10/17 11:48 PM</td>\n",
              "      <td>10654</td>\n",
              "      <td>24.50</td>\n",
              "      <td>21.0</td>\n",
              "      <td>0.0</td>\n",
              "      <td>NaN</td>\n",
              "      <td>NaN</td>\n",
              "      <td>NaN</td>\n",
              "      <td>85.05</td>\n",
              "      <td>NaN</td>\n",
              "      <td>NaN</td>\n",
              "      <td>7.0</td>\n",
              "      <td>7.0</td>\n",
              "      <td>7.7</td>\n",
              "      <td>...</td>\n",
              "      <td>NaN</td>\n",
              "      <td>NaN</td>\n",
              "      <td>NaN</td>\n",
              "      <td>NaN</td>\n",
              "      <td>NaN</td>\n",
              "      <td>NaN</td>\n",
              "      <td>NaN</td>\n",
              "      <td>NaN</td>\n",
              "      <td>NaN</td>\n",
              "      <td>NaN</td>\n",
              "      <td>NaN</td>\n",
              "      <td>NaN</td>\n",
              "      <td>NaN</td>\n",
              "      <td>NaN</td>\n",
              "      <td>NaN</td>\n",
              "      <td>NaN</td>\n",
              "      <td>NaN</td>\n",
              "      <td>NaN</td>\n",
              "      <td>NaN</td>\n",
              "      <td>NaN</td>\n",
              "      <td>-1</td>\n",
              "      <td>NaN</td>\n",
              "      <td>NaN</td>\n",
              "      <td>NaN</td>\n",
              "      <td>NaN</td>\n",
              "      <td>NaN</td>\n",
              "      <td>NaN</td>\n",
              "      <td>NaN</td>\n",
              "      <td>NaN</td>\n",
              "      <td>NaN</td>\n",
              "      <td>NaN</td>\n",
              "      <td>NaN</td>\n",
              "      <td>NaN</td>\n",
              "      <td>NaN</td>\n",
              "      <td>NaN</td>\n",
              "      <td>NaN</td>\n",
              "      <td>NaN</td>\n",
              "      <td>NaN</td>\n",
              "      <td>NaN</td>\n",
              "      <td>Turkey Creek-Appalachee River</td>\n",
              "    </tr>\n",
              "    <tr>\n",
              "      <th>4</th>\n",
              "      <td>297</td>\n",
              "      <td>Apalachee Water Watchers, Walton Clean &amp; Beaut...</td>\n",
              "      <td>44</td>\n",
              "      <td>Georgia</td>\n",
              "      <td>Walton</td>\n",
              "      <td>33.8406</td>\n",
              "      <td>-83.5584</td>\n",
              "      <td>Apalachee River</td>\n",
              "      <td>33.8406  -83.5584</td>\n",
              "      <td>96</td>\n",
              "      <td>1998-08-22 09:00:00</td>\n",
              "      <td>180.0</td>\n",
              "      <td>3197.0</td>\n",
              "      <td>10</td>\n",
              "      <td>Intermittent Rain</td>\n",
              "      <td>Clear</td>\n",
              "      <td>NaN</td>\n",
              "      <td>NaN</td>\n",
              "      <td>NaN</td>\n",
              "      <td>22.50</td>\n",
              "      <td>NaN</td>\n",
              "      <td>NaN</td>\n",
              "      <td>NaN</td>\n",
              "      <td>NaN</td>\n",
              "      <td>NaN</td>\n",
              "      <td>EPDMIG</td>\n",
              "      <td>3/10/17 11:48 PM</td>\n",
              "      <td>10662</td>\n",
              "      <td>22.50</td>\n",
              "      <td>22.0</td>\n",
              "      <td>0.0</td>\n",
              "      <td>NaN</td>\n",
              "      <td>NaN</td>\n",
              "      <td>NaN</td>\n",
              "      <td>83.38</td>\n",
              "      <td>NaN</td>\n",
              "      <td>NaN</td>\n",
              "      <td>6.6</td>\n",
              "      <td>6.6</td>\n",
              "      <td>7.4</td>\n",
              "      <td>...</td>\n",
              "      <td>NaN</td>\n",
              "      <td>NaN</td>\n",
              "      <td>NaN</td>\n",
              "      <td>NaN</td>\n",
              "      <td>NaN</td>\n",
              "      <td>NaN</td>\n",
              "      <td>NaN</td>\n",
              "      <td>NaN</td>\n",
              "      <td>NaN</td>\n",
              "      <td>NaN</td>\n",
              "      <td>NaN</td>\n",
              "      <td>NaN</td>\n",
              "      <td>NaN</td>\n",
              "      <td>NaN</td>\n",
              "      <td>NaN</td>\n",
              "      <td>NaN</td>\n",
              "      <td>NaN</td>\n",
              "      <td>NaN</td>\n",
              "      <td>NaN</td>\n",
              "      <td>NaN</td>\n",
              "      <td>-1</td>\n",
              "      <td>NaN</td>\n",
              "      <td>NaN</td>\n",
              "      <td>NaN</td>\n",
              "      <td>NaN</td>\n",
              "      <td>NaN</td>\n",
              "      <td>NaN</td>\n",
              "      <td>NaN</td>\n",
              "      <td>NaN</td>\n",
              "      <td>NaN</td>\n",
              "      <td>NaN</td>\n",
              "      <td>NaN</td>\n",
              "      <td>NaN</td>\n",
              "      <td>NaN</td>\n",
              "      <td>NaN</td>\n",
              "      <td>NaN</td>\n",
              "      <td>NaN</td>\n",
              "      <td>NaN</td>\n",
              "      <td>NaN</td>\n",
              "      <td>Turkey Creek-Appalachee River</td>\n",
              "    </tr>\n",
              "  </tbody>\n",
              "</table>\n",
              "<p>5 rows × 90 columns</p>\n",
              "</div>\n",
              "      <button class=\"colab-df-convert\" onclick=\"convertToInteractive('df-e8411fb4-f67b-4489-93ab-a39284c9e84d')\"\n",
              "              title=\"Convert this dataframe to an interactive table.\"\n",
              "              style=\"display:none;\">\n",
              "        \n",
              "  <svg xmlns=\"http://www.w3.org/2000/svg\" height=\"24px\"viewBox=\"0 0 24 24\"\n",
              "       width=\"24px\">\n",
              "    <path d=\"M0 0h24v24H0V0z\" fill=\"none\"/>\n",
              "    <path d=\"M18.56 5.44l.94 2.06.94-2.06 2.06-.94-2.06-.94-.94-2.06-.94 2.06-2.06.94zm-11 1L8.5 8.5l.94-2.06 2.06-.94-2.06-.94L8.5 2.5l-.94 2.06-2.06.94zm10 10l.94 2.06.94-2.06 2.06-.94-2.06-.94-.94-2.06-.94 2.06-2.06.94z\"/><path d=\"M17.41 7.96l-1.37-1.37c-.4-.4-.92-.59-1.43-.59-.52 0-1.04.2-1.43.59L10.3 9.45l-7.72 7.72c-.78.78-.78 2.05 0 2.83L4 21.41c.39.39.9.59 1.41.59.51 0 1.02-.2 1.41-.59l7.78-7.78 2.81-2.81c.8-.78.8-2.07 0-2.86zM5.41 20L4 18.59l7.72-7.72 1.47 1.35L5.41 20z\"/>\n",
              "  </svg>\n",
              "      </button>\n",
              "      \n",
              "  <style>\n",
              "    .colab-df-container {\n",
              "      display:flex;\n",
              "      flex-wrap:wrap;\n",
              "      gap: 12px;\n",
              "    }\n",
              "\n",
              "    .colab-df-convert {\n",
              "      background-color: #E8F0FE;\n",
              "      border: none;\n",
              "      border-radius: 50%;\n",
              "      cursor: pointer;\n",
              "      display: none;\n",
              "      fill: #1967D2;\n",
              "      height: 32px;\n",
              "      padding: 0 0 0 0;\n",
              "      width: 32px;\n",
              "    }\n",
              "\n",
              "    .colab-df-convert:hover {\n",
              "      background-color: #E2EBFA;\n",
              "      box-shadow: 0px 1px 2px rgba(60, 64, 67, 0.3), 0px 1px 3px 1px rgba(60, 64, 67, 0.15);\n",
              "      fill: #174EA6;\n",
              "    }\n",
              "\n",
              "    [theme=dark] .colab-df-convert {\n",
              "      background-color: #3B4455;\n",
              "      fill: #D2E3FC;\n",
              "    }\n",
              "\n",
              "    [theme=dark] .colab-df-convert:hover {\n",
              "      background-color: #434B5C;\n",
              "      box-shadow: 0px 1px 3px 1px rgba(0, 0, 0, 0.15);\n",
              "      filter: drop-shadow(0px 1px 2px rgba(0, 0, 0, 0.3));\n",
              "      fill: #FFFFFF;\n",
              "    }\n",
              "  </style>\n",
              "\n",
              "      <script>\n",
              "        const buttonEl =\n",
              "          document.querySelector('#df-e8411fb4-f67b-4489-93ab-a39284c9e84d button.colab-df-convert');\n",
              "        buttonEl.style.display =\n",
              "          google.colab.kernel.accessAllowed ? 'block' : 'none';\n",
              "\n",
              "        async function convertToInteractive(key) {\n",
              "          const element = document.querySelector('#df-e8411fb4-f67b-4489-93ab-a39284c9e84d');\n",
              "          const dataTable =\n",
              "            await google.colab.kernel.invokeFunction('convertToInteractive',\n",
              "                                                     [key], {});\n",
              "          if (!dataTable) return;\n",
              "\n",
              "          const docLinkHtml = 'Like what you see? Visit the ' +\n",
              "            '<a target=\"_blank\" href=https://colab.research.google.com/notebooks/data_table.ipynb>data table notebook</a>'\n",
              "            + ' to learn more about interactive tables.';\n",
              "          element.innerHTML = '';\n",
              "          dataTable['output_type'] = 'display_data';\n",
              "          await google.colab.output.renderOutput(dataTable, element);\n",
              "          const docLink = document.createElement('div');\n",
              "          docLink.innerHTML = docLinkHtml;\n",
              "          element.appendChild(docLink);\n",
              "        }\n",
              "      </script>\n",
              "    </div>\n",
              "  </div>\n",
              "  "
            ],
            "text/plain": [
              "   group_rid  ...                            wbd\n",
              "0        840  ...         West Fork Little River\n",
              "1        840  ...         West Fork Little River\n",
              "2        297  ...  Turkey Creek-Appalachee River\n",
              "3        297  ...  Turkey Creek-Appalachee River\n",
              "4        297  ...  Turkey Creek-Appalachee River\n",
              "\n",
              "[5 rows x 90 columns]"
            ]
          },
          "metadata": {},
          "execution_count": 52
        }
      ]
    },
    {
      "cell_type": "markdown",
      "source": [
        "# group_rid"
      ],
      "metadata": {
        "id": "OAQ526Bfp8Ul"
      }
    },
    {
      "cell_type": "markdown",
      "source": [
        "Numerical identifier associated with ```GroupName```\n",
        "* There are 992 distinct group_rid\n"
      ],
      "metadata": {
        "id": "5d9FIb7TtL8L"
      }
    },
    {
      "cell_type": "markdown",
      "source": [
        "# GroupName"
      ],
      "metadata": {
        "id": "OUN49uEOqKDB"
      }
    },
    {
      "cell_type": "markdown",
      "source": [
        "Name of citizen group who collected the associated data entry\n",
        "* 992 distinct group names"
      ],
      "metadata": {
        "id": "YXb36_HnvpEy"
      }
    },
    {
      "cell_type": "markdown",
      "source": [
        "# site_rid"
      ],
      "metadata": {
        "id": "fSC0FMEIqO6Z"
      }
    },
    {
      "cell_type": "markdown",
      "source": [
        "Numerical identifier associated with ```SiteLocation```\n",
        "* 2637 site ids\n",
        "* Will further investigate if it corresponds to any geographical factors"
      ],
      "metadata": {
        "id": "TI5qRQXZvsIh"
      }
    },
    {
      "cell_type": "markdown",
      "source": [
        "# event_rid"
      ],
      "metadata": {
        "id": "BbrhNYSeqaFg"
      }
    },
    {
      "cell_type": "markdown",
      "source": [
        "Numerical identifier associated with ```event_date```\n",
        "* Effectively an index for each entry \n",
        "* Does not appear to be chronological\n",
        "* Unique value for each data entry\n",
        "* Appears to skips values at random\n",
        "* 59598 event ids\n",
        "* Will further investigate why it skips over some values"
      ],
      "metadata": {
        "id": "VAChyrp8wWFT"
      }
    },
    {
      "cell_type": "markdown",
      "source": [
        "# Comments"
      ],
      "metadata": {
        "id": "Oc-eWP-Os1po"
      }
    },
    {
      "cell_type": "markdown",
      "source": [
        "Notes describing the condition of the river (trash, etc.)\n",
        "* 94.6% of data in this column are NaN \n",
        "* 3163 non-null Comments, 2725 of unique ones\n",
        "* All kinds of environmental features noticed, including vegetation, water quality, water level, smell, trash ... or just used as a place of communication between researchers"
      ],
      "metadata": {
        "id": "7LDUxT8Kx7Mb"
      }
    },
    {
      "cell_type": "markdown",
      "source": [
        "# comments"
      ],
      "metadata": {
        "id": "WfhyhZmZs3CF"
      }
    },
    {
      "cell_type": "markdown",
      "source": [
        "Notes with scientific information (bacteria, etc.)\n",
        "* 99% are NaN values\n",
        "* 465 unique comments out of total 541 non-null\n",
        "* more focused on the detection and abnormal features of bacteria level"
      ],
      "metadata": {
        "id": "1bQY_bvQypqn"
      }
    },
    {
      "cell_type": "markdown",
      "source": [
        "# warnings"
      ],
      "metadata": {
        "id": "TcWpE1-ss4V8"
      }
    },
    {
      "cell_type": "markdown",
      "source": [
        "Standardized labels all refer to \"Bacterial Warnings:\"\n",
        "* 99.5% are NaN values\n",
        "* In total 165 groups reported warnings, and all of them reported the same thing\n",
        "* Some groups have more warnings than others (EX. group#2986 has 23 warnings and group#1398 - 12 warnings, group#6796&316 - 10 warnings, group#2858&6567 - 9 warnings, group#6594 - 8 warnings, group#6649 - 7 warnings, group#2388&4055&2500 - 6 warnings, all others are below 5)"
      ],
      "metadata": {
        "id": "pawg4OiO0Fzt"
      }
    },
    {
      "cell_type": "markdown",
      "source": [
        "# SiteName"
      ],
      "metadata": {
        "id": "t4TsaaZfs6Hu"
      }
    },
    {
      "cell_type": "markdown",
      "source": [
        "Name of the body of water or general location\n",
        "* 1892 site names\n",
        "* Directly associated with columns ```site_rid```,\t```state```,\t```county```,\t```lat```,\t```long```,\t```SiteName```,\t```SiteLocation```\n",
        "* Appears to be a more general label for ```wbd```"
      ],
      "metadata": {
        "id": "IdudU_DizDcX"
      }
    },
    {
      "cell_type": "markdown",
      "source": [
        "# SiteLocation"
      ],
      "metadata": {
        "id": "F7WzaB9Qs-Ah"
      }
    },
    {
      "cell_type": "markdown",
      "source": [
        "Coordinates of the site location\n",
        "* Direct combination of columns ```lat``` and ```long```, in that order\n",
        "* Coordinates are separated by two spaces between the latitute and longitude"
      ],
      "metadata": {
        "id": "pQcgUZkV0MNm"
      }
    },
    {
      "cell_type": "markdown",
      "source": [
        "# event_date"
      ],
      "metadata": {
        "id": "VggMaVGRs_zl"
      }
    },
    {
      "cell_type": "markdown",
      "source": [
        "Date of the collection event in format YYYY-MM-DD HH:MM:SS\t\n",
        "* Partially associated with ```event_rid```\n",
        "* ```event_rid``` contains all unique values while ```event_date``` contains 8356 non-unique values"
      ],
      "metadata": {
        "id": "AI_RW9mA0aMy"
      }
    },
    {
      "cell_type": "markdown",
      "source": [
        "# volunteer_time"
      ],
      "metadata": {
        "id": "8zaQNGnjtC9x"
      }
    },
    {
      "cell_type": "markdown",
      "source": [
        "[Units = Minutes] Number of minutes spent at site by volunteers\n",
        "* Has a mean of 101 minutes, standard deviation of 657 minutes\n",
        "* Has a minimum of 0 minutes, and has 23056 NaN values\n",
        "* Has a maximum of 120210 minutes, which equates to 83.5 days\n",
        "* The middle 50% lies between 45 minutes and 120 minutes"
      ],
      "metadata": {
        "id": "LV0UpSNr1_A7"
      }
    },
    {
      "cell_type": "markdown",
      "source": [
        "# createdby"
      ],
      "metadata": {
        "id": "z6aIa0BatEvx"
      }
    },
    {
      "cell_type": "markdown",
      "source": [
        "Contact information for party associated with the data entry\n",
        "* 78% of entries are \"EPDMIG\"\n",
        "* \"EPDMIG\" rows have the same several ```createddate``` values\n",
        "* Other values are emails, with a combination of personal, academic institutional, and organizational addresses"
      ],
      "metadata": {
        "id": "-dIhXSe528Rj"
      }
    },
    {
      "cell_type": "markdown",
      "source": [
        "# createddate"
      ],
      "metadata": {
        "id": "1cCdvpMutF-Y"
      }
    },
    {
      "cell_type": "markdown",
      "source": [
        "Date the data was uploaded, in format M/D/YY HH:MM AM/PM"
      ],
      "metadata": {
        "id": "RWIUhT9Q3mtI"
      }
    },
    {
      "cell_type": "markdown",
      "source": [
        "# data_entry"
      ],
      "metadata": {
        "id": "CQ6198XEtHXm"
      }
    },
    {
      "cell_type": "markdown",
      "source": [
        "An indicator or label corresponding to ```group_rid``` and ```GroupName``` but with more NA values\n",
        "* 1574 distinct values\n",
        "* Float data type but all values end in .0, used as a categorical label\n",
        "* Includes inconsistencies with different ```data_entry``` values for the same ```group_rid``` and ```GroupName```\n",
        "* Often, same ```data_entry``` corresponds to same ```site_rid``` with a few exceptions, in which one ```data_entry``` corresponds to several consecutive ```site_rid```. (EX. ```data_entry``` 3307.0 to ```site_rid``` 45,46,47)\n"
      ],
      "metadata": {
        "id": "kflcwewH4Q30"
      }
    },
    {
      "cell_type": "markdown",
      "source": [
        "# participants"
      ],
      "metadata": {
        "id": "5lOhFY4itIrV"
      }
    },
    {
      "cell_type": "markdown",
      "source": [
        "[Units = Number of People] Number of people involved in the data collection event\n",
        "* Minimum value of 0 \n",
        "* Zero NaN values\n",
        "* Middle 50% range is 1-2 people\n",
        "* Maximum of 111 people"
      ],
      "metadata": {
        "id": "vKWzqaQT5w26"
      }
    }
  ]
}
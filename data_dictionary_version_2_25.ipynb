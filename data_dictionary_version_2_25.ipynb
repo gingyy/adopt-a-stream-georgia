{
  "nbformat": 4,
  "nbformat_minor": 0,
  "metadata": {
    "colab": {
      "name": "data_dictionary_version_2_25.ipynb",
      "provenance": [],
      "collapsed_sections": [],
      "include_colab_link": true
    },
    "kernelspec": {
      "name": "python3",
      "display_name": "Python 3"
    },
    "language_info": {
      "name": "python"
    }
  },
  "cells": [
    {
      "cell_type": "markdown",
      "metadata": {
        "id": "view-in-github",
        "colab_type": "text"
      },
      "source": [
        "<a href=\"https://colab.research.google.com/github/gingyy/adopt-a-stream-georgia/blob/main/data_dictionary_version_2_25.ipynb\" target=\"_parent\"><img src=\"https://colab.research.google.com/assets/colab-badge.svg\" alt=\"Open In Colab\"/></a>"
      ]
    },
    {
      "cell_type": "markdown",
      "source": [
        "# Group 1 Data Dictionary (version 2/25/22)"
      ],
      "metadata": {
        "id": "OYaMgeaPeGGP"
      }
    },
    {
      "cell_type": "markdown",
      "source": [
        "# group_rid"
      ],
      "metadata": {
        "id": "OAQ526Bfp8Ul"
      }
    },
    {
      "cell_type": "markdown",
      "source": [
        "Numerical identifier associated with ```GroupName```\n",
        "* There are 992 distinct group_rid\n"
      ],
      "metadata": {
        "id": "5d9FIb7TtL8L"
      }
    },
    {
      "cell_type": "markdown",
      "source": [
        "# GroupName"
      ],
      "metadata": {
        "id": "OUN49uEOqKDB"
      }
    },
    {
      "cell_type": "markdown",
      "source": [
        "Name of citizen group who collected the associated data entry\n",
        "* 992 distinct group names"
      ],
      "metadata": {
        "id": "YXb36_HnvpEy"
      }
    },
    {
      "cell_type": "markdown",
      "source": [
        "# site_rid"
      ],
      "metadata": {
        "id": "fSC0FMEIqO6Z"
      }
    },
    {
      "cell_type": "markdown",
      "source": [
        "Numerical identifier associated with ```SiteLocation```\n",
        "* 2637 site ids\n",
        "* Will further investigate if it corresponds to any geographical factors"
      ],
      "metadata": {
        "id": "TI5qRQXZvsIh"
      }
    },
    {
      "cell_type": "markdown",
      "source": [
        "# event_rid"
      ],
      "metadata": {
        "id": "BbrhNYSeqaFg"
      }
    },
    {
      "cell_type": "markdown",
      "source": [
        "Numerical identifier associated with ```event_date```\n",
        "* Effectively an index for each entry \n",
        "* Does not appear to be chronological\n",
        "* Unique value for each data entry\n",
        "* Appears to skips values at random\n",
        "* 59598 event ids\n",
        "* Will further investigate why it skips over some values"
      ],
      "metadata": {
        "id": "VAChyrp8wWFT"
      }
    },
    {
      "cell_type": "markdown",
      "source": [
        "# Comments"
      ],
      "metadata": {
        "id": "Oc-eWP-Os1po"
      }
    },
    {
      "cell_type": "markdown",
      "source": [
        "Notes describing the condition of the river (trash, etc.)\n",
        "* 94.6% of data in this column are NaN \n",
        "* 3163 non-null Comments, 2725 of unique ones\n",
        "* All kinds of environmental features noticed, including vegetation, water quality, water level, smell, trash ... or just used as a place of communication between researchers"
      ],
      "metadata": {
        "id": "7LDUxT8Kx7Mb"
      }
    },
    {
      "cell_type": "markdown",
      "source": [
        "# comments"
      ],
      "metadata": {
        "id": "WfhyhZmZs3CF"
      }
    },
    {
      "cell_type": "markdown",
      "source": [
        "Notes with scientific information (bacteria, etc.)\n",
        "* 99% are NaN values\n",
        "* 465 unique comments out of total 541 non-null\n",
        "* more focused on the detection and abnormal features of bacteria level"
      ],
      "metadata": {
        "id": "1bQY_bvQypqn"
      }
    },
    {
      "cell_type": "markdown",
      "source": [
        "# warnings"
      ],
      "metadata": {
        "id": "TcWpE1-ss4V8"
      }
    },
    {
      "cell_type": "markdown",
      "source": [
        "Standardized labels all refer to \"Bacterial Warnings:\"\n",
        "* 99.5% are NaN values\n",
        "* In total 165 groups reported warnings, and all of them reported the same thing\n",
        "* Some groups have more warnings than others (EX. group#2986 has 23 warnings and group#1398 - 12 warnings, group#6796&316 - 10 warnings, group#2858&6567 - 9 warnings, group#6594 - 8 warnings, group#6649 - 7 warnings, group#2388&4055&2500 - 6 warnings, all others are below 5)"
      ],
      "metadata": {
        "id": "pawg4OiO0Fzt"
      }
    },
    {
      "cell_type": "markdown",
      "source": [
        "# SiteName"
      ],
      "metadata": {
        "id": "t4TsaaZfs6Hu"
      }
    },
    {
      "cell_type": "markdown",
      "source": [
        "Name of the body of water or general location\n",
        "* 1892 site names\n",
        "* Directly associated with columns ```site_rid```,\t```state```,\t```county```,\t```lat```,\t```long```,\t```SiteName```,\t```SiteLocation```\n",
        "* Appears to be a more general label for ```wbd```"
      ],
      "metadata": {
        "id": "IdudU_DizDcX"
      }
    },
    {
      "cell_type": "markdown",
      "source": [
        "# SiteLocation"
      ],
      "metadata": {
        "id": "F7WzaB9Qs-Ah"
      }
    },
    {
      "cell_type": "markdown",
      "source": [
        "Coordinates of the site location\n",
        "* Direct combination of columns ```lat``` and ```long```, in that order\n",
        "* Coordinates are separated by two spaces between the latitute and longitude"
      ],
      "metadata": {
        "id": "pQcgUZkV0MNm"
      }
    },
    {
      "cell_type": "markdown",
      "source": [
        "# event_date"
      ],
      "metadata": {
        "id": "VggMaVGRs_zl"
      }
    },
    {
      "cell_type": "markdown",
      "source": [
        "Date of the collection event in format YYYY-MM-DD HH:MM:SS\t\n",
        "* Partially associated with ```event_rid```\n",
        "* ```event_rid``` contains all unique values while ```event_date``` contains 8356 non-unique values"
      ],
      "metadata": {
        "id": "AI_RW9mA0aMy"
      }
    },
    {
      "cell_type": "markdown",
      "source": [
        "# volunteer_time"
      ],
      "metadata": {
        "id": "8zaQNGnjtC9x"
      }
    },
    {
      "cell_type": "markdown",
      "source": [
        "[Units = Minutes] Number of minutes spent at site by volunteers\n",
        "* Has a mean of 101 minutes, standard deviation of 657 minutes\n",
        "* Has a minimum of 0 minutes, and has 23056 NaN values\n",
        "* Has a maximum of 120210 minutes, which equates to 83.5 days\n",
        "* The middle 50% lies between 45 minutes and 120 minutes"
      ],
      "metadata": {
        "id": "LV0UpSNr1_A7"
      }
    },
    {
      "cell_type": "markdown",
      "source": [
        "# createdby"
      ],
      "metadata": {
        "id": "z6aIa0BatEvx"
      }
    },
    {
      "cell_type": "markdown",
      "source": [
        "Contact information for party associated with the data entry\n",
        "* 78% of entries are \"EPDMIG\"\n",
        "* \"EPDMIG\" rows have the same several ```createddate``` values\n",
        "* Other values are emails, with a combination of personal, academic institutional, and organizational addresses"
      ],
      "metadata": {
        "id": "-dIhXSe528Rj"
      }
    },
    {
      "cell_type": "markdown",
      "source": [
        "# createddate"
      ],
      "metadata": {
        "id": "1cCdvpMutF-Y"
      }
    },
    {
      "cell_type": "markdown",
      "source": [
        "Date the data was uploaded, in format M/D/YY HH:MM AM/PM"
      ],
      "metadata": {
        "id": "RWIUhT9Q3mtI"
      }
    },
    {
      "cell_type": "markdown",
      "source": [
        "# data_entry"
      ],
      "metadata": {
        "id": "CQ6198XEtHXm"
      }
    },
    {
      "cell_type": "markdown",
      "source": [
        "An indicator or label corresponding to ```group_rid``` and ```GroupName``` but with more NA values\n",
        "* 1574 distinct values\n",
        "* Float data type but all values end in .0, used as a categorical label\n",
        "* Includes inconsistencies with different ```data_entry``` values for the same ```group_rid``` and ```GroupName```\n",
        "* Often, same ```data_entry``` corresponds to same ```site_rid``` with a few exceptions, in which one ```data_entry``` corresponds to several consecutive ```site_rid```. (EX. ```data_entry``` 3307.0 to ```site_rid``` 45,46,47)\n"
      ],
      "metadata": {
        "id": "kflcwewH4Q30"
      }
    },
    {
      "cell_type": "markdown",
      "source": [
        "# participants"
      ],
      "metadata": {
        "id": "5lOhFY4itIrV"
      }
    },
    {
      "cell_type": "markdown",
      "source": [
        "[Units = Number of People] Number of people involved in the data collection event\n",
        "* Minimum value of 0 \n",
        "* Zero NaN values\n",
        "* Middle 50% range is 1-2 people\n",
        "* Maximum of 111 people"
      ],
      "metadata": {
        "id": "vKWzqaQT5w26"
      }
    }
  ]
}